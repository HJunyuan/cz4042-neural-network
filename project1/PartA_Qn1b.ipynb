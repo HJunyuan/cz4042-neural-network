{
 "cells": [
  {
   "cell_type": "code",
   "execution_count": 1,
   "metadata": {},
   "outputs": [],
   "source": [
    "import math\n",
    "import tensorflow as tf\n",
    "import numpy as np\n",
    "import pylab as plt\n",
    "from sklearn.model_selection import train_test_split\n",
    "tf.compat.v1.logging.set_verbosity(tf.compat.v1.logging.ERROR)"
   ]
  },
  {
   "cell_type": "code",
   "execution_count": 2,
   "metadata": {},
   "outputs": [],
   "source": [
    "# Scale data\n",
    "def scale(X, X_min, X_max):\n",
    "    return (X - X_min)/(X_max-X_min)"
   ]
  },
  {
   "cell_type": "code",
   "execution_count": 3,
   "metadata": {},
   "outputs": [],
   "source": [
    "# Constants\n",
    "NUM_FEATURES = 21\n",
    "NUM_HIDDEN_LAYER = 10\n",
    "NUM_CLASSES = 3\n",
    "\n",
    "learning_rate = 0.01\n",
    "weight_decay = 1e-6\n",
    "epochs = 5000\n",
    "batch_size = 32\n",
    "num_neurons = 10\n",
    "seed = 10\n",
    "np.random.seed(seed)"
   ]
  },
  {
   "cell_type": "code",
   "execution_count": 4,
   "metadata": {},
   "outputs": [],
   "source": [
    "# Read from CSV\n",
    "train_input = np.genfromtxt('ctg_data_cleaned.csv', delimiter= ',')\n",
    "trainX, train_Y = train_input[1:, :21], train_input[1:,-1].astype(int)\n",
    "trainX = scale(trainX, np.min(trainX, axis=0), np.max(trainX, axis=0))\n",
    "\n",
    "trainY = np.zeros((train_Y.shape[0], NUM_CLASSES))\n",
    "trainY[np.arange(train_Y.shape[0]), train_Y-1] = 1 # one hot matrix"
   ]
  },
  {
   "cell_type": "code",
   "execution_count": 5,
   "metadata": {},
   "outputs": [
    {
     "name": "stdout",
     "output_type": "stream",
     "text": [
      "Sample size: 2126\n"
     ]
    }
   ],
   "source": [
    "# Shuffle\n",
    "print('Sample size: %d'%(trainX.shape[0]))\n",
    "s = np.arange(trainX.shape[0]) # Create an index array\n",
    "np.random.shuffle(s) # Shuffle the index array\n",
    "trainX, trainY = trainX[s], trainY[s]"
   ]
  },
  {
   "cell_type": "code",
   "execution_count": 6,
   "metadata": {},
   "outputs": [
    {
     "name": "stdout",
     "output_type": "stream",
     "text": [
      "(1488, 21)\n"
     ]
    }
   ],
   "source": [
    "# Split into 70:30 (train:test)\n",
    "trainX, testX, trainY, testY = train_test_split(trainX, trainY, test_size=0.30, random_state=42)\n",
    "print(trainX.shape)"
   ]
  },
  {
   "cell_type": "code",
   "execution_count": 7,
   "metadata": {},
   "outputs": [],
   "source": [
    "# Create the model\n",
    "x = tf.placeholder(tf.float32, [None, NUM_FEATURES])\n",
    "y_ = tf.placeholder(tf.float32, [None, NUM_CLASSES])\n",
    "\n",
    "# Build the graph for the deep net\n",
    "w1 = tf.Variable(tf.truncated_normal([NUM_FEATURES, NUM_HIDDEN_LAYER], stddev=1.0/math.sqrt(float(NUM_FEATURES))), name='w1')\n",
    "b1 = tf.Variable(tf.zeros([NUM_HIDDEN_LAYER]), name='b1')\n",
    "hidden_relu = tf.nn.relu(tf.matmul(x, w1) + b1, name='relu')\n",
    "\n",
    "w2 = tf.Variable(tf.truncated_normal([NUM_HIDDEN_LAYER, NUM_CLASSES], stddev=1.0/math.sqrt(float(NUM_HIDDEN_LAYER))), name='w2')\n",
    "b2  = tf.Variable(tf.zeros([NUM_CLASSES]), name='b2')\n",
    "logits  = tf.matmul(hidden_relu, w2) + b2\n",
    "\n",
    "# Apply Softmax activation function to output\n",
    "cross_entropy = tf.nn.softmax_cross_entropy_with_logits_v2(labels=y_, logits=logits)\n",
    "\n",
    "# Loss function with L2 Regularization with b = 10^-6\n",
    "loss1 = tf.reduce_mean(cross_entropy)\n",
    "regularizers = tf.nn.l2_loss(w1) + tf.nn.l2_loss(w2)\n",
    "loss = tf.reduce_mean(loss1 + weight_decay * regularizers)\n",
    "\n",
    "# Create the gradient descent optimizer with the given learning rate.\n",
    "optimizer = tf.train.GradientDescentOptimizer(learning_rate)\n",
    "train_op = optimizer.minimize(loss)\n",
    "\n",
    "correct_prediction = tf.cast(tf.equal(tf.argmax(logits, 1), tf.argmax(y_, 1)), tf.float32)\n",
    "accuracy = tf.reduce_mean(correct_prediction)"
   ]
  },
  {
   "cell_type": "code",
   "execution_count": 8,
   "metadata": {},
   "outputs": [
    {
     "name": "stdout",
     "output_type": "stream",
     "text": [
      "Training dataset: 1488\n",
      "Iter: 0 | Train acc: 0.773777 | Test acc: 0.786834\n",
      "Iter: 100 | Train acc: 0.870924 | Test acc: 0.863636\n",
      "Iter: 200 | Train acc: 0.88519 | Test acc: 0.877743\n",
      "Iter: 300 | Train acc: 0.894022 | Test acc: 0.88558\n",
      "Iter: 400 | Train acc: 0.89606 | Test acc: 0.88558\n",
      "Iter: 500 | Train acc: 0.898777 | Test acc: 0.88558\n",
      "Iter: 600 | Train acc: 0.901495 | Test acc: 0.896552\n",
      "Iter: 700 | Train acc: 0.904212 | Test acc: 0.893417\n",
      "Iter: 800 | Train acc: 0.903533 | Test acc: 0.893417\n",
      "Iter: 900 | Train acc: 0.903533 | Test acc: 0.893417\n",
      "Iter: 1000 | Train acc: 0.904891 | Test acc: 0.893417\n",
      "Iter: 1100 | Train acc: 0.903533 | Test acc: 0.893417\n",
      "Iter: 1200 | Train acc: 0.905571 | Test acc: 0.89185\n",
      "Iter: 1300 | Train acc: 0.906929 | Test acc: 0.894984\n",
      "Iter: 1400 | Train acc: 0.907609 | Test acc: 0.893417\n",
      "Iter: 1500 | Train acc: 0.911685 | Test acc: 0.893417\n",
      "Iter: 1600 | Train acc: 0.911685 | Test acc: 0.893417\n",
      "Iter: 1700 | Train acc: 0.913723 | Test acc: 0.890282\n",
      "Iter: 1800 | Train acc: 0.914402 | Test acc: 0.887147\n",
      "Iter: 1900 | Train acc: 0.915761 | Test acc: 0.887147\n",
      "Iter: 2000 | Train acc: 0.91644 | Test acc: 0.89185\n",
      "Iter: 2100 | Train acc: 0.91644 | Test acc: 0.89185\n",
      "Iter: 2200 | Train acc: 0.91712 | Test acc: 0.890282\n",
      "Iter: 2300 | Train acc: 0.918478 | Test acc: 0.89185\n",
      "Iter: 2400 | Train acc: 0.918478 | Test acc: 0.893417\n",
      "Iter: 2500 | Train acc: 0.920516 | Test acc: 0.896552\n",
      "Iter: 2600 | Train acc: 0.921196 | Test acc: 0.896552\n",
      "Iter: 2700 | Train acc: 0.921875 | Test acc: 0.894984\n",
      "Iter: 2800 | Train acc: 0.921875 | Test acc: 0.896552\n",
      "Iter: 2900 | Train acc: 0.922554 | Test acc: 0.898119\n",
      "Iter: 3000 | Train acc: 0.923234 | Test acc: 0.898119\n",
      "Iter: 3100 | Train acc: 0.923913 | Test acc: 0.898119\n",
      "Iter: 3200 | Train acc: 0.924592 | Test acc: 0.896552\n",
      "Iter: 3300 | Train acc: 0.923913 | Test acc: 0.893417\n",
      "Iter: 3400 | Train acc: 0.923234 | Test acc: 0.893417\n",
      "Iter: 3500 | Train acc: 0.923913 | Test acc: 0.896552\n",
      "Iter: 3600 | Train acc: 0.924592 | Test acc: 0.896552\n",
      "Iter: 3700 | Train acc: 0.924592 | Test acc: 0.896552\n",
      "Iter: 3800 | Train acc: 0.925951 | Test acc: 0.896552\n",
      "Iter: 3900 | Train acc: 0.925272 | Test acc: 0.896552\n",
      "Iter: 4000 | Train acc: 0.925951 | Test acc: 0.898119\n",
      "Iter: 4100 | Train acc: 0.925951 | Test acc: 0.899687\n",
      "Iter: 4200 | Train acc: 0.92663 | Test acc: 0.898119\n",
      "Iter: 4300 | Train acc: 0.92663 | Test acc: 0.899687\n",
      "Iter: 4400 | Train acc: 0.92663 | Test acc: 0.899687\n",
      "Iter: 4500 | Train acc: 0.92663 | Test acc: 0.901254\n",
      "Iter: 4600 | Train acc: 0.92663 | Test acc: 0.902821\n",
      "Iter: 4700 | Train acc: 0.92731 | Test acc: 0.901254\n",
      "Iter: 4800 | Train acc: 0.92731 | Test acc: 0.902821\n",
      "Iter: 4900 | Train acc: 0.927989 | Test acc: 0.902821\n"
     ]
    }
   ],
   "source": [
    "# Main\n",
    "with tf.Session() as sess:\n",
    "    sess.run(tf.global_variables_initializer())\n",
    "    train_acc = []\n",
    "    test_acc = []\n",
    "    test_err = []\n",
    "    no_data = trainX.shape[0]\n",
    "    print('Training dataset: %d' %(no_data))\n",
    "    \n",
    "    for i in range(epochs):\n",
    "        temp_train_acc = 0\n",
    "        temp_train_err = 0\n",
    "        count = 0\n",
    "        \n",
    "        for start, end in zip(range(0, no_data, batch_size), range(batch_size, no_data, batch_size)):            \n",
    "            train_op.run(feed_dict={x: trainX[start:end], y_: trainY[start:end]})\n",
    "            temp_train_acc += accuracy.eval(feed_dict={x: trainX[start:end], y_: trainY[start:end]})\n",
    "            count += 1\n",
    "            \n",
    "        train_acc.append(temp_train_acc/count) # Mean training accuracy of all batches\n",
    "        test_acc.append(accuracy.eval(feed_dict={x: testX, y_: testY}))\n",
    "        \n",
    "        test_err.append(loss.eval(feed_dict={x: testX, y_: testY}))\n",
    "\n",
    "        if i % 100 == 0:\n",
    "            print('Iter: %d | Train acc: %g | Test acc: %g'%(i, train_acc[i], test_acc[i]))"
   ]
  },
  {
   "cell_type": "code",
   "execution_count": 10,
   "metadata": {},
   "outputs": [
    {
     "data": {
      "image/png": "[encoded data removed]",
      "text/plain": [
       "<Figure size 1000x800 with 1 Axes>"
      ]
     },
     "metadata": {
      "needs_background": "light"
     },
     "output_type": "display_data"
    }
   ],
   "source": [
    "# Plot learning curves\n",
    "plt.figure(1, figsize=(10, 8), dpi= 100)\n",
    "\n",
    "# plt.plot(range(epochs), train_acc, color='blue', label='Train')\n",
    "# maxTrain = max(train_acc)\n",
    "# maxTrainIndex = train_acc.index(maxTrain)\n",
    "# plt.text(maxTrainIndex, maxTrain, \"%.3f at epoch %d\" %(maxTrain, maxTrainIndex))\n",
    "\n",
    "# plt.plot(range(epochs), test_acc, color='red', label='Test')\n",
    "# maxTest = max(test_acc)\n",
    "# maxTestIndex = test_acc.index(maxTest)\n",
    "# plt.text(maxTestIndex, maxTest, \"%.3f at epoch %d\" %(maxTest, maxTestIndex))\n",
    "\n",
    "plt.plot(range(epochs), test_err, label='Test Error')\n",
    "\n",
    "plt.xlabel(str(epochs) + ' iterations')\n",
    "plt.ylabel('Error')\n",
    "plt.legend()\n",
    "plt.savefig('PartA_Qn1b.png')\n",
    "plt.show()"
   ]
  }
 ],
 "metadata": {
  "kernelspec": {
   "display_name": "Python 3",
   "language": "python",
   "name": "python3"
  },
  "language_info": {
   "codemirror_mode": {
    "name": "ipython",
    "version": 3
   },
   "file_extension": ".py",
   "mimetype": "text/x-python",
   "name": "python",
   "nbconvert_exporter": "python",
   "pygments_lexer": "ipython3",
   "version": "3.7.4"
  }
 },
 "nbformat": 4,
 "nbformat_minor": 2
}
