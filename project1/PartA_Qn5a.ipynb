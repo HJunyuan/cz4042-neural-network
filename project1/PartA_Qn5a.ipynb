{
 "cells": [
  {
   "cell_type": "code",
   "execution_count": 1,
   "metadata": {},
   "outputs": [],
   "source": [
    "import math\n",
    "import tensorflow as tf\n",
    "import numpy as np\n",
    "import pylab as plt\n",
    "from tqdm import tqdm\n",
    "from sklearn.model_selection import train_test_split\n",
    "from sklearn.model_selection import KFold\n",
    "tf.compat.v1.logging.set_verbosity(tf.compat.v1.logging.ERROR)"
   ]
  },
  {
   "cell_type": "code",
   "execution_count": 2,
   "metadata": {},
   "outputs": [],
   "source": [
    "# Scale data\n",
    "def scale(X, X_min, X_max):\n",
    "    return (X - X_min)/(X_max-X_min)"
   ]
  },
  {
   "cell_type": "code",
   "execution_count": 3,
   "metadata": {},
   "outputs": [],
   "source": [
    "# Constants\n",
    "NUM_FEATURES = 21\n",
    "NUM_HIDDEN_NEURON = 10\n",
    "NUM_CLASSES = 3\n",
    "\n",
    "learning_rate = 0.01\n",
    "weight_decay = 1E-6\n",
    "epochs = 5000\n",
    "batch_size = 32\n",
    "num_folds = 5\n",
    "seed = 10\n",
    "np.random.seed(seed)"
   ]
  },
  {
   "cell_type": "code",
   "execution_count": 4,
   "metadata": {},
   "outputs": [],
   "source": [
    "# Read from CSV\n",
    "train_input = np.genfromtxt('ctg_data_cleaned.csv', delimiter= ',')\n",
    "trainX, train_Y = train_input[1:, :21], train_input[1:,-1].astype(int)\n",
    "trainX = scale(trainX, np.min(trainX, axis=0), np.max(trainX, axis=0))\n",
    "\n",
    "trainY = np.zeros((train_Y.shape[0], NUM_CLASSES))\n",
    "trainY[np.arange(train_Y.shape[0]), train_Y-1] = 1 # one hot matrix"
   ]
  },
  {
   "cell_type": "code",
   "execution_count": 5,
   "metadata": {},
   "outputs": [
    {
     "name": "stdout",
     "output_type": "stream",
     "text": [
      "Sample size: 2126\n"
     ]
    }
   ],
   "source": [
    "# Shuffle\n",
    "print('Sample size: %d'%(trainX.shape[0]))\n",
    "s = np.arange(trainX.shape[0]) # Create an index array\n",
    "np.random.shuffle(s) # Shuffle the index array\n",
    "trainX, trainY = trainX[s], trainY[s]"
   ]
  },
  {
   "cell_type": "code",
   "execution_count": 6,
   "metadata": {},
   "outputs": [
    {
     "name": "stdout",
     "output_type": "stream",
     "text": [
      "(1488, 21)\n"
     ]
    }
   ],
   "source": [
    "# Split into 70:30 (train:test)\n",
    "trainX, testX, trainY, testY = train_test_split(trainX, trainY, test_size=0.30, random_state=seed, shuffle=True)\n",
    "print(trainX.shape)"
   ]
  },
  {
   "cell_type": "code",
   "execution_count": 7,
   "metadata": {},
   "outputs": [],
   "source": [
    "# Create the model\n",
    "def create4LayerModel(weight_decay):\n",
    "    x = tf.placeholder(tf.float32, [None, NUM_FEATURES])\n",
    "    y_ = tf.placeholder(tf.float32, [None, NUM_CLASSES])\n",
    "\n",
    "    # Build the graph for the deep net\n",
    "    w1 = tf.Variable(tf.truncated_normal([NUM_FEATURES, NUM_HIDDEN_NEURON], stddev=1.0/math.sqrt(float(NUM_FEATURES))), name='w1')\n",
    "    b1 = tf.Variable(tf.zeros([NUM_HIDDEN_NEURON]), name='b1')\n",
    "    hidden_relu = tf.nn.relu(tf.matmul(x, w1) + b1, name='relu')\n",
    "    \n",
    "    w2 = tf.Variable(tf.truncated_normal([NUM_HIDDEN_NEURON, NUM_HIDDEN_NEURON], stddev=1.0/math.sqrt(float(NUM_HIDDEN_NEURON))), name='w2')\n",
    "    b2 = tf.Variable(tf.zeros([NUM_HIDDEN_NEURON]), name='b2')\n",
    "    hidden_relu2 = tf.nn.relu(tf.matmul(hidden_relu, w2) + b2, name='relu2')\n",
    "\n",
    "    w3 = tf.Variable(tf.truncated_normal([NUM_HIDDEN_NEURON, NUM_CLASSES], stddev=1.0/math.sqrt(float(NUM_HIDDEN_NEURON))), name='w3')\n",
    "    b3  = tf.Variable(tf.zeros([NUM_CLASSES]), name='b3')\n",
    "    logits  = tf.matmul(hidden_relu2, w3) + b3\n",
    "\n",
    "    # Apply Softmax activation function to output\n",
    "    cross_entropy = tf.nn.softmax_cross_entropy_with_logits_v2(labels=y_, logits=logits)\n",
    "\n",
    "    # Loss function with L2 Regularization with b = 10^-6\n",
    "    loss1 = tf.reduce_mean(cross_entropy)\n",
    "    regularizers = tf.nn.l2_loss(w1) + tf.nn.l2_loss(w2)\n",
    "    loss = tf.reduce_mean(loss1 + weight_decay * regularizers)\n",
    "\n",
    "    # Create the gradient descent optimizer with the given learning rate.\n",
    "    optimizer = tf.train.GradientDescentOptimizer(learning_rate)\n",
    "    train_op = optimizer.minimize(loss)\n",
    "    \n",
    "    correct_prediction = tf.cast(tf.equal(tf.argmax(logits, 1), tf.argmax(y_, 1)), tf.float32)\n",
    "    accuracy = tf.reduce_mean(correct_prediction)\n",
    "    \n",
    "    return x, y_, train_op, accuracy"
   ]
  },
  {
   "cell_type": "code",
   "execution_count": 8,
   "metadata": {},
   "outputs": [
    {
     "name": "stdout",
     "output_type": "stream",
     "text": [
      "Experiment 1 of 5: \n"
     ]
    },
    {
     "name": "stderr",
     "output_type": "stream",
     "text": [
      "100%|██████████████████████████████████████████████████████████████████████████████| 5000/5000 [05:03<00:00, 16.47it/s]\n"
     ]
    },
    {
     "name": "stdout",
     "output_type": "stream",
     "text": [
      "\n",
      "Experiment 2 of 5: \n"
     ]
    },
    {
     "name": "stderr",
     "output_type": "stream",
     "text": [
      "100%|██████████████████████████████████████████████████████████████████████████████| 5000/5000 [05:03<00:00, 16.46it/s]\n"
     ]
    },
    {
     "name": "stdout",
     "output_type": "stream",
     "text": [
      "\n",
      "Experiment 3 of 5: \n"
     ]
    },
    {
     "name": "stderr",
     "output_type": "stream",
     "text": [
      "100%|██████████████████████████████████████████████████████████████████████████████| 5000/5000 [04:58<00:00, 16.74it/s]\n"
     ]
    },
    {
     "name": "stdout",
     "output_type": "stream",
     "text": [
      "\n",
      "Experiment 4 of 5: \n"
     ]
    },
    {
     "name": "stderr",
     "output_type": "stream",
     "text": [
      "100%|██████████████████████████████████████████████████████████████████████████████| 5000/5000 [04:41<00:00, 17.77it/s]\n"
     ]
    },
    {
     "name": "stdout",
     "output_type": "stream",
     "text": [
      "\n",
      "Experiment 5 of 5: \n"
     ]
    },
    {
     "name": "stderr",
     "output_type": "stream",
     "text": [
      "100%|██████████████████████████████████████████████████████████████████████████████| 5000/5000 [04:44<00:00, 17.58it/s]\n"
     ]
    },
    {
     "name": "stdout",
     "output_type": "stream",
     "text": [
      "\n"
     ]
    }
   ],
   "source": [
    "# Main\n",
    "train_acc = []\n",
    "test_acc = []\n",
    "\n",
    "# Split dataset into number of folds\n",
    "kf = KFold(n_splits=num_folds, random_state=seed, shuffle=True)\n",
    "    \n",
    "# Create the model\n",
    "x, y_, train_op, accuracy = create4LayerModel(weight_decay)\n",
    "\n",
    "# For each fold (CV)\n",
    "for train_index, test_index in kf.split(trainX):\n",
    "    fTrainX, fTestX = trainX[train_index], trainX[test_index]\n",
    "    fTrainY, fTestY = trainY[train_index], trainY[test_index]\n",
    "\n",
    "    # Run experiment\n",
    "    with tf.Session() as sess:\n",
    "        print('Experiment %d of %d: ' %(len(train_acc)+1, num_folds))\n",
    "        sess.run(tf.global_variables_initializer())\n",
    "\n",
    "        exp_train_acc = []\n",
    "        exp_test_acc = []\n",
    "\n",
    "        # For each epoch\n",
    "        for e in tqdm(range(epochs)):\n",
    "            epoch_train_acc = []\n",
    "\n",
    "            # Run mini-batch\n",
    "            for start, end in zip(range(0, len(fTrainX), batch_size), range(batch_size, len(fTrainX), batch_size)):\n",
    "                train_op.run(feed_dict={x: fTrainX[start:end], y_: fTrainY[start:end]})\n",
    "                epoch_train_acc.append(accuracy.eval(feed_dict={x: fTrainX[start:end], y_: fTrainY[start:end]}))\n",
    "\n",
    "            exp_train_acc.append(np.mean(np.array(epoch_train_acc)))\n",
    "            exp_test_acc.append(accuracy.eval(feed_dict={x: fTestX, y_: fTestY}))\n",
    "\n",
    "#             if e % 100 == 0:\n",
    "#                 print('Iter: %d' %e, ' | ', 'Train acc: %g' %exp_train_acc[e], ' | ', 'Test acc: %g' %exp_test_acc[e])\n",
    "\n",
    "    train_acc.append(exp_train_acc)\n",
    "    test_acc.append(exp_test_acc)\n",
    "    print()"
   ]
  },
  {
   "cell_type": "code",
   "execution_count": 9,
   "metadata": {},
   "outputs": [],
   "source": [
    "# After all experiments are completed, compute mean\n",
    "all_train_acc = np.mean(np.array(train_acc), axis=0)\n",
    "all_test_acc = np.mean(np.array(test_acc), axis=0)"
   ]
  },
  {
   "cell_type": "code",
   "execution_count": 11,
   "metadata": {},
   "outputs": [
    {
     "data": {
      "image/png": "[encoded data removed]",
      "text/plain": [
       "<Figure size 1000x800 with 1 Axes>"
      ]
     },
     "metadata": {
      "needs_background": "light"
     },
     "output_type": "display_data"
    }
   ],
   "source": [
    "# Plot curves\n",
    "plt.figure(1, figsize=(10, 8), dpi= 100)\n",
    "plt.title('Train and test accuracies of the 4-layer network')\n",
    "\n",
    "plt.plot(range(epochs), all_train_acc, label='Train Accuracy')\n",
    "plt.plot(range(epochs), all_test_acc, label='Test Accuracy')\n",
    "\n",
    "plt.xlabel(str(epochs) + ' iterations')\n",
    "plt.ylabel('Cross Validation Accuracy')\n",
    "plt.legend()\n",
    "plt.savefig('PartA_Qn5a_4Layer.png')\n",
    "plt.show()"
   ]
  }
 ],
 "metadata": {
  "kernelspec": {
   "display_name": "Python 3",
   "language": "python",
   "name": "python3"
  },
  "language_info": {
   "codemirror_mode": {
    "name": "ipython",
    "version": 3
   },
   "file_extension": ".py",
   "mimetype": "text/x-python",
   "name": "python",
   "nbconvert_exporter": "python",
   "pygments_lexer": "ipython3",
   "version": "3.7.4"
  }
 },
 "nbformat": 4,
 "nbformat_minor": 2
}
